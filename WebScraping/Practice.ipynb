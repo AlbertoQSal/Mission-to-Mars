{
 "cells": [
  {
   "cell_type": "code",
   "execution_count": 1,
   "id": "c01fc557",
   "metadata": {},
   "outputs": [],
   "source": [
    "# Importing dependencies\n",
    "from splinter import Browser\n",
    "from bs4 import BeautifulSoup as soup\n",
    "from webdriver_manager.chrome import ChromeDriverManager"
   ]
  },
  {
   "cell_type": "code",
   "execution_count": 2,
   "id": "c748314d",
   "metadata": {},
   "outputs": [],
   "source": [
    "# Set up Splinter\n",
    "executable_path = {'executable_path': ChromeDriverManager().install()} # Indicates that Chrome will \n",
    "                                                                       # be used as the browser\n",
    "browser = Browser('chrome', **executable_path, headless=False) # specifies that you’re installing \n",
    "                                                               # ChromeDriver instead of manually downloading it"
   ]
  },
  {
   "cell_type": "code",
   "execution_count": 3,
   "id": "25459f3f",
   "metadata": {},
   "outputs": [],
   "source": [
    "# Visit the Quotes to Scrape site\n",
    "url = 'http://quotes.toscrape.com/' # Tells Splinter to visit the site that the url variable specifies.\n",
    "browser.visit(url)"
   ]
  },
  {
   "cell_type": "code",
   "execution_count": 4,
   "id": "ce488682",
   "metadata": {},
   "outputs": [],
   "source": [
    "# Parse the HTML\n",
    "html = browser.html\n",
    "html_soup = soup(html, 'html.parser')"
   ]
  },
  {
   "cell_type": "code",
   "execution_count": 6,
   "id": "e9cbddba",
   "metadata": {},
   "outputs": [
    {
     "name": "stdout",
     "output_type": "stream",
     "text": [
      "<h2>Top Ten tags</h2>\n",
      "Top Ten tags\n"
     ]
    }
   ],
   "source": [
    "# Scrape the Title\n",
    "h2 = html_soup.find('h2') # Retrives the title with tags\n",
    "                          # access the title text by using \n",
    "                          # title = html_soup.find('h2').text\n",
    "\n",
    "title = h2.text # Retrive only the title text\n",
    "print(h2)\n",
    "print(title)"
   ]
  },
  {
   "cell_type": "code",
   "execution_count": 7,
   "id": "2ee70200",
   "metadata": {},
   "outputs": [
    {
     "name": "stdout",
     "output_type": "stream",
     "text": [
      "love\n",
      "inspirational\n",
      "life\n",
      "humor\n",
      "books\n",
      "reading\n",
      "friendship\n",
      "friends\n",
      "truth\n",
      "simile\n"
     ]
    }
   ],
   "source": [
    "# Scrape the top ten tags\n",
    "tag_box = html_soup.find('div', class_='tags-box') # Search for the\n",
    "                                                   # class 'tag-box'\n",
    "                                                   # Inside of the \n",
    "                                                   # 'div' tag\n",
    "# tag_box\n",
    "tags = tag_box.find_all('a', class_='tag') # The class_ argument \n",
    "#contains an underscore (_). \n",
    "#That’s because the word class is reserved for other uses in Python\n",
    "\n",
    "for tag in tags:\n",
    "    word = tag.text\n",
    "    print(word)"
   ]
  },
  {
   "cell_type": "code",
   "execution_count": 8,
   "id": "30e3c032",
   "metadata": {},
   "outputs": [],
   "source": [
    "browser.quit()"
   ]
  }
 ],
 "metadata": {
  "kernelspec": {
   "display_name": "Python 3 (ipykernel)",
   "language": "python",
   "name": "python3"
  },
  "language_info": {
   "codemirror_mode": {
    "name": "ipython",
    "version": 3
   },
   "file_extension": ".py",
   "mimetype": "text/x-python",
   "name": "python",
   "nbconvert_exporter": "python",
   "pygments_lexer": "ipython3",
   "version": "3.9.12"
  }
 },
 "nbformat": 4,
 "nbformat_minor": 5
}
